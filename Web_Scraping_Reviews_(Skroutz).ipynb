{
  "nbformat": 4,
  "nbformat_minor": 0,
  "metadata": {
    "colab": {
      "name": "Web Scraping Reviews (Skroutz).ipynb",
      "provenance": [],
      "collapsed_sections": [],
      "authorship_tag": "ABX9TyN+Wh9EX0E0OQVlKxepkpV2",
      "include_colab_link": true
    },
    "kernelspec": {
      "name": "python3",
      "display_name": "Python 3"
    },
    "language_info": {
      "name": "python"
    }
  },
  "cells": [
    {
      "cell_type": "markdown",
      "metadata": {
        "id": "view-in-github",
        "colab_type": "text"
      },
      "source": [
        "<a href=\"https://colab.research.google.com/github/frizchar/Web-Scraping-Skroutz-Reviews/blob/main/Web_Scraping_Reviews_(Skroutz).ipynb\" target=\"_parent\"><img src=\"https://colab.research.google.com/assets/colab-badge.svg\" alt=\"Open In Colab\"/></a>"
      ]
    },
    {
      "cell_type": "markdown",
      "metadata": {
        "id": "tiDVug9pVhlv"
      },
      "source": [
        "# Collect Reviews on Skroutz"
      ]
    },
    {
      "cell_type": "code",
      "metadata": {
        "id": "PtgwxExe9gI0"
      },
      "source": [
        "import requests\n",
        "from bs4 import BeautifulSoup\n",
        "import re"
      ],
      "execution_count": null,
      "outputs": []
    },
    {
      "cell_type": "code",
      "metadata": {
        "id": "IKPjK_M3ArqS"
      },
      "source": [
        "r = requests.get('https://www.skroutz.gr/s/30515833/Huawei-MateBook-D-14-i3-10110U-8GB-256GB-FHD-W10-Home.html#reviews')\n",
        "soup = BeautifulSoup(r.text, 'html.parser')\n",
        "regex = re.compile('.*review\\-body.*')\n",
        "results = soup.find_all('div', {'class':regex})\n",
        "reviews = [result.text for result in results]"
      ],
      "execution_count": null,
      "outputs": []
    },
    {
      "cell_type": "code",
      "metadata": {
        "colab": {
          "base_uri": "https://localhost:8080/"
        },
        "id": "FTNVSoT2xTSS",
        "outputId": "19cc6d01-bc6a-4886-c207-31264858cdac"
      },
      "source": [
        "reviews"
      ],
      "execution_count": null,
      "outputs": [
        {
          "output_type": "execute_result",
          "data": {
            "text/plain": [
              "['Αρχικά το έχω στην κατοχή μου κοντά ένα μήνα . Το έχω χρησιμοποιήσει  για προγραμματισμό , gaming , και γενικά εργασίες γραφείου. \\nΟι επιδόσεις με έχουν αφήσει άφωνο σε όλα τα κομμάτια των χαρακτηριστικών από επιδώσεις επεξεργαστή έχουμε ένα πολύ ικανό για όλες τις δουλειές. Σε θέμα μπαταρίας θα ήθελα λίγο μεγαλύτερη. Άλλα νομίζω είναι αδύνατον μιας που το laptop είναι πολύ λεπτό. το touchpad έχει πολύ ωραία επαφή στην αίσθηση ,δεν κολλάει και εχει παρα πολλές επιλογές να κάνεις , ειναι λες και χειρίζεσε ενα κινητό  (Εγω δεν προτιμάω τα touchpad άλλα αυτο ειναι μαι εξαίρεση . Πολυ βολικό.) \\nΤωρα το πληκτρολόγιο πολυ ωραίο με ωραία αίσθηση κουμπιών . Το μόνο που δεν μου άρεσε είναι οτι έχει αγγλικό πληκτρολόγιο . Άλλα και πάλι το συνηθίζεις από την πρώτη ημέρα . \\nΤο καλύτερο χαρακτηριστικό που προσωπικά μου έκανε το κλικ για να το αγοράσω είναι η οθόνη . Ειλικρινά δεν έχω λόγια . IPS οθόνη σε laptop δεν θα βρείτε πουθενά σε τέτοια τιμή .\\nΕπίσης πολύ λένε ότι η κάμερα δεν έχει τόσο καλή γωνία θέασης . Αυτό ισχύει άλλα είναι κατασκευασμένη το laptop να είναι πάνω σε βάση . Εγώ δεν το είχα σε βάση άλλα κατάφερα να κάνω ένα meeting χωρίς να εχω κανένα πρόβλημα . Απλά το μόνο που χρειάστηκε να κάνω ήταν να βάλω ένα βιβλίο κάτω για να πάρει μια μικρή κλήση .Όμως να βλέπουμε και τα θετικά πρώτα από όλα σε θέμα ασφάλειας κανένας δεν μπορεί να σε παρακολουθήσει .Και σε θέμα  αισθητική επειδή δεν υπάρχει κάμερα πάνω στην οθόνη το κάνει πολυ ποιο όμορφο .',\n",
              " 'το μοναδικο προβλημα ειναι η τοποθετιση της καμερας μεσα στο πληκτρολογιο, παρολα αυτα εαν δεν την χρησιμοποιεις για online meeting δεν θα υπαρχει κανενα προβλημα.',\n",
              " 'Πολύ γρήγορο , λιτό αλλά όμορφο στην εμφάνιση  και πολύ ελαφρύ .\\nΜοναδικό μειονέκτημα , είναι ότι δεν μπορείς να κάνεις επέκταση μνήμης , ωστόσο τα 8 gb  προς το παρόν είναι αρκετά για χρήση εφαρμογών γραφείου και internet . Αξίζει τα λεφτά του',\n",
              " 'Το είχα βάλει στο μάτι από πέρυσι αν και δεν είμαι σίγουρος ότι είχε τα ίδια χαρακτηριστικά. Περίμενα να πέσει η τιμή και το πήρα πριν 1,5 μήνα 499. Δεν κάνω βαριά χρήση, office και τηλεκπαίδευση, τηλεδιάσκεψη. Είναι παναλαφρο, γρήγορο. Η κάμερα είναι ίδια σε ποιότητα με μια που είχα αγοράσει πριν ένα εξάμηνο γύρω στα 50 ευρώ. Αποδεκτή. Γενικά είμαι πολύ ικανοποιημένος.',\n",
              " 'το πηρα στα 499 μπορω να πω οτι αξιζει τα λεφτα του . Η μπαταρια προς το παρων δεν με ενοχλησε αλλα ετσι κι αλλιως φορτιζει απιστευτα γρηγορα . Με εντυπωσιασε η εικονα και ο ηχος . Ιδανικο για ατομα που μετακινουνται γιατι ειναι ελαφρυ και χωραει ανετα σε οποιοδηποτε backpack . Το επιπεδο του πλησιαζει τα macbook ως πρωην χρηστης του macbook air .',\n",
              " 'ελαφρύ, εύχρηστο και μπαταρία που κρατάει για πάντα!',\n",
              " 'Εκπληκτικό όπως όλα τα προϊόντα της εταιρείας...',\n",
              " 'Απλά τέλειο είναι το συγκεκριμένο μοντέλο',\n",
              " '',\n",
              " '',\n",
              " '',\n",
              " '']"
            ]
          },
          "metadata": {},
          "execution_count": 3
        }
      ]
    },
    {
      "cell_type": "markdown",
      "metadata": {
        "id": "kn9GnkVxp4NO"
      },
      "source": [
        "# Import Reviews into Pandas Dataframe"
      ]
    },
    {
      "cell_type": "code",
      "metadata": {
        "id": "3XzT9USOnjnt"
      },
      "source": [
        "import pandas as pd\n",
        "import numpy as np"
      ],
      "execution_count": null,
      "outputs": []
    },
    {
      "cell_type": "code",
      "metadata": {
        "colab": {
          "base_uri": "https://localhost:8080/",
          "height": 206
        },
        "id": "o5KxGXMtoI3_",
        "outputId": "0aa855e7-a60d-4ce1-f6e1-51687a8c16aa"
      },
      "source": [
        "df = pd.DataFrame(np.array(reviews), columns=['review'])\n",
        "df.head()"
      ],
      "execution_count": null,
      "outputs": [
        {
          "output_type": "execute_result",
          "data": {
            "text/html": [
              "<div>\n",
              "<style scoped>\n",
              "    .dataframe tbody tr th:only-of-type {\n",
              "        vertical-align: middle;\n",
              "    }\n",
              "\n",
              "    .dataframe tbody tr th {\n",
              "        vertical-align: top;\n",
              "    }\n",
              "\n",
              "    .dataframe thead th {\n",
              "        text-align: right;\n",
              "    }\n",
              "</style>\n",
              "<table border=\"1\" class=\"dataframe\">\n",
              "  <thead>\n",
              "    <tr style=\"text-align: right;\">\n",
              "      <th></th>\n",
              "      <th>review</th>\n",
              "    </tr>\n",
              "  </thead>\n",
              "  <tbody>\n",
              "    <tr>\n",
              "      <th>7</th>\n",
              "      <td>Απλά τέλειο είναι το συγκεκριμένο μοντέλο</td>\n",
              "    </tr>\n",
              "    <tr>\n",
              "      <th>8</th>\n",
              "      <td></td>\n",
              "    </tr>\n",
              "    <tr>\n",
              "      <th>9</th>\n",
              "      <td></td>\n",
              "    </tr>\n",
              "    <tr>\n",
              "      <th>10</th>\n",
              "      <td></td>\n",
              "    </tr>\n",
              "    <tr>\n",
              "      <th>11</th>\n",
              "      <td></td>\n",
              "    </tr>\n",
              "  </tbody>\n",
              "</table>\n",
              "</div>"
            ],
            "text/plain": [
              "                                       review\n",
              "7   Απλά τέλειο είναι το συγκεκριμένο μοντέλο\n",
              "8                                            \n",
              "9                                            \n",
              "10                                           \n",
              "11                                           "
            ]
          },
          "metadata": {},
          "execution_count": 5
        }
      ]
    }
  ]
}